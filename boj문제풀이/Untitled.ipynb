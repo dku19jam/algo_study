{
 "cells": [
  {
   "cell_type": "code",
   "execution_count": 2,
   "id": "eaf87020",
   "metadata": {},
   "outputs": [
    {
     "data": {
      "text/plain": [
       "\"우리 단국대학교는 조국 광복 후 최초의 정규 4년제 사립대학으로 1947년에 개교하였습니다. 나라를 바로 세우고 인간을 완성하는 기본이 곧 교육이라는 설립자의 숭고한 뜻, 그리고 순수 민족 자본으로 창학한 우리 대학은 '구국·자주·자립'의 교육이념과 '진리·봉사'의 교시를 지표로 삼아 참된 인재양성과 학문탐구를 위한 대학교육의 사명을 지켜 왔습니다.\\n\\n우리나라 현대사의 굴곡진 역사와 더불어 오늘에 이르기까지 우리 대학은 숱한 고난과 시련 속에서도 모든 단국인의 애교심과 헌신으로 비약적인 발전을 이루었습니다. 1967년 종합대학교 승격, 1978년 천안캠퍼스 개교, 1984년 치과대학 부속병원 개원, 1994년 의과대학 부속병원 개원, 2007년 죽전캠퍼스로의 이전, 2018년 EduAI 교육지원 시스템 구축 등 한국 대학사에 굵직한 획을 긋는 발걸음을 내딛어 왔습니다.\\n\\n우리 대학은 죽전캠퍼스와 천안캠퍼스가 하나의 대학으로 단국 정신을 함께 하는 동시에 지역 여건과 환경을 고려한 캠퍼스 특성화 전략을 바탕으로 학생들의 진로와 성취, 그리고 지역사회의 성장을 이끌고 있습니다. \\n\\n죽전캠퍼스는 IT와 CT 분야 특성화를 통해 지식재산선도대학, 창업선도대학, 사회맞춤형 산학협력선도대학(LINC+), 소프트웨어중심대학 등 대형국책사업을 추진하며 산학협력과 창업의 메카로 발돋움하였습니다. 천안캠퍼스는 BT와 외국어 분야 특성화로 의학·치의학·약학·보건학 등의 교육·연구 영역을 집적하여 ‘메디바이오 올인원(All in One) 캠퍼스’를 구축하였습니다. 이러한 성과들을 바탕으로 해서 우리 대학은 글로벌 경쟁력을 갖춘 명문 사학으로 도약하고 있습니다. \\n\\n우리 대학이 지향하는 ‘D³ 인재상’인 능동적 인재(Self-Determination), 혁신적 인재(Discovery), 헌신적 인재(Dedication)는 능동적이고 도전적인 자기 혁신을 통하여 늘 새롭게 자신을 성장시키고 있으며, 늘 새로운 단국을 창조하고 있습니다. 세계와 미래를 향해 두려움 없는 ‘청년’의 뜻과 힘이 우리의 발전 동력이자 자부심이 되었습니다. \\n\\n설립자로부터 이어진 창학 정신과 전통을 지키며 끊임없는 혁신과 도전으로 시대와 사회를 선도하는 대학이 되겠습니다. 새로운 지식과 문화를 창조하며 미래를 여는 대학이 되겠습니다. 세계 속의 민족 사학으로 나아가는 단국대학교의 비상을 지켜보아 주시기 바랍니다. \\n\\n감사합니다.\""
      ]
     },
     "execution_count": 2,
     "metadata": {},
     "output_type": "execute_result"
    }
   ],
   "source": [
    "fp_read = open(\"./president_message.txt\",mode=\"r\",encoding = \"utf-8\")\n",
    "text=fp_read.read()\n",
    "fp_read.close()\n",
    "text"
   ]
  },
  {
   "cell_type": "code",
   "execution_count": 5,
   "id": "e31cf3b0",
   "metadata": {},
   "outputs": [
    {
     "name": "stdout",
     "output_type": "stream",
     "text": [
      "238\n"
     ]
    }
   ],
   "source": [
    "print(len(text.split(\" \")))"
   ]
  },
  {
   "cell_type": "code",
   "execution_count": null,
   "id": "fd594a45",
   "metadata": {},
   "outputs": [],
   "source": []
  }
 ],
 "metadata": {
  "kernelspec": {
   "display_name": "Python 3",
   "language": "python",
   "name": "python3"
  },
  "language_info": {
   "codemirror_mode": {
    "name": "ipython",
    "version": 3
   },
   "file_extension": ".py",
   "mimetype": "text/x-python",
   "name": "python",
   "nbconvert_exporter": "python",
   "pygments_lexer": "ipython3",
   "version": "3.9.2"
  }
 },
 "nbformat": 4,
 "nbformat_minor": 5
}
